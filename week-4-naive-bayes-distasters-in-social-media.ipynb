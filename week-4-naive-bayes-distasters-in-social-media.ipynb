{
 "cells": [
  {
   "cell_type": "code",
   "execution_count": 39,
   "metadata": {},
   "outputs": [
    {
     "name": "stderr",
     "output_type": "stream",
     "text": [
      "[nltk_data] Downloading package words to /Users/paolo/nltk_data...\n",
      "[nltk_data]   Package words is already up-to-date!\n",
      "[nltk_data] Downloading package stopwords to /Users/paolo/nltk_data...\n",
      "[nltk_data]   Package stopwords is already up-to-date!\n",
      "[nltk_data] Downloading package wordnet to /Users/paolo/nltk_data...\n",
      "[nltk_data]   Package wordnet is already up-to-date!\n",
      "[nltk_data] Downloading package averaged_perceptron_tagger to\n",
      "[nltk_data]     /Users/paolo/nltk_data...\n",
      "[nltk_data]   Package averaged_perceptron_tagger is already up-to-\n",
      "[nltk_data]       date!\n",
      "[nltk_data] Downloading package maxent_ne_chunker to\n",
      "[nltk_data]     /Users/paolo/nltk_data...\n",
      "[nltk_data]   Package maxent_ne_chunker is already up-to-date!\n"
     ]
    }
   ],
   "source": [
    "import re\n",
    "from collections import Counter, defaultdict\n",
    "import itertools\n",
    "\n",
    "import nltk\n",
    "from nltk.tokenize import word_tokenize, sent_tokenize, regexp_tokenize, TweetTokenizer\n",
    "nltk.download('words')\n",
    "nltk.download('stopwords')\n",
    "nltk.download('wordnet')\n",
    "nltk.download('averaged_perceptron_tagger')\n",
    "nltk.download('maxent_ne_chunker')\n",
    "from nltk.corpus import stopwords\n",
    "from nltk.stem import WordNetLemmatizer\n",
    "\n",
    "import pandas as pd\n",
    "import numpy as np\n",
    "\n",
    "from sklearn.model_selection import train_test_split\n",
    "from sklearn.feature_extraction.text import CountVectorizer, TfidfVectorizer\n",
    "from sklearn.naive_bayes import MultinomialNB\n",
    "from sklearn import metrics\n",
    "\n",
    "import matplotlib.pyplot as plt\n",
    "%matplotlib inline"
   ]
  },
  {
   "cell_type": "markdown",
   "metadata": {},
   "source": [
    "# Import data"
   ]
  },
  {
   "cell_type": "code",
   "execution_count": 4,
   "metadata": {
    "collapsed": true
   },
   "outputs": [],
   "source": [
    "df = pd.read_csv('./data/socialmedia-disaster-tweets-DFE.csv', encoding='iso-8859-1')"
   ]
  },
  {
   "cell_type": "code",
   "execution_count": 5,
   "metadata": {},
   "outputs": [
    {
     "data": {
      "text/plain": [
       "(10876, 13)"
      ]
     },
     "execution_count": 5,
     "metadata": {},
     "output_type": "execute_result"
    }
   ],
   "source": [
    "df.shape"
   ]
  },
  {
   "cell_type": "code",
   "execution_count": 6,
   "metadata": {},
   "outputs": [
    {
     "data": {
      "text/html": [
       "<div>\n",
       "<style scoped>\n",
       "    .dataframe tbody tr th:only-of-type {\n",
       "        vertical-align: middle;\n",
       "    }\n",
       "\n",
       "    .dataframe tbody tr th {\n",
       "        vertical-align: top;\n",
       "    }\n",
       "\n",
       "    .dataframe thead th {\n",
       "        text-align: right;\n",
       "    }\n",
       "</style>\n",
       "<table border=\"1\" class=\"dataframe\">\n",
       "  <thead>\n",
       "    <tr style=\"text-align: right;\">\n",
       "      <th></th>\n",
       "      <th>_unit_id</th>\n",
       "      <th>_golden</th>\n",
       "      <th>_unit_state</th>\n",
       "      <th>_trusted_judgments</th>\n",
       "      <th>_last_judgment_at</th>\n",
       "      <th>choose_one</th>\n",
       "      <th>choose_one:confidence</th>\n",
       "      <th>choose_one_gold</th>\n",
       "      <th>keyword</th>\n",
       "      <th>location</th>\n",
       "      <th>text</th>\n",
       "      <th>tweetid</th>\n",
       "      <th>userid</th>\n",
       "    </tr>\n",
       "  </thead>\n",
       "  <tbody>\n",
       "    <tr>\n",
       "      <th>0</th>\n",
       "      <td>778243823</td>\n",
       "      <td>True</td>\n",
       "      <td>golden</td>\n",
       "      <td>156</td>\n",
       "      <td>NaN</td>\n",
       "      <td>Relevant</td>\n",
       "      <td>1.0000</td>\n",
       "      <td>Relevant</td>\n",
       "      <td>NaN</td>\n",
       "      <td>NaN</td>\n",
       "      <td>Just happened a terrible car crash</td>\n",
       "      <td>1.0</td>\n",
       "      <td>NaN</td>\n",
       "    </tr>\n",
       "    <tr>\n",
       "      <th>1</th>\n",
       "      <td>778243824</td>\n",
       "      <td>True</td>\n",
       "      <td>golden</td>\n",
       "      <td>152</td>\n",
       "      <td>NaN</td>\n",
       "      <td>Relevant</td>\n",
       "      <td>1.0000</td>\n",
       "      <td>Relevant</td>\n",
       "      <td>NaN</td>\n",
       "      <td>NaN</td>\n",
       "      <td>Our Deeds are the Reason of this #earthquake M...</td>\n",
       "      <td>13.0</td>\n",
       "      <td>NaN</td>\n",
       "    </tr>\n",
       "    <tr>\n",
       "      <th>2</th>\n",
       "      <td>778243825</td>\n",
       "      <td>True</td>\n",
       "      <td>golden</td>\n",
       "      <td>137</td>\n",
       "      <td>NaN</td>\n",
       "      <td>Relevant</td>\n",
       "      <td>1.0000</td>\n",
       "      <td>Relevant</td>\n",
       "      <td>NaN</td>\n",
       "      <td>NaN</td>\n",
       "      <td>Heard about #earthquake is different cities, s...</td>\n",
       "      <td>14.0</td>\n",
       "      <td>NaN</td>\n",
       "    </tr>\n",
       "    <tr>\n",
       "      <th>3</th>\n",
       "      <td>778243826</td>\n",
       "      <td>True</td>\n",
       "      <td>golden</td>\n",
       "      <td>136</td>\n",
       "      <td>NaN</td>\n",
       "      <td>Relevant</td>\n",
       "      <td>0.9603</td>\n",
       "      <td>Relevant</td>\n",
       "      <td>NaN</td>\n",
       "      <td>NaN</td>\n",
       "      <td>there is a forest fire at spot pond, geese are...</td>\n",
       "      <td>15.0</td>\n",
       "      <td>NaN</td>\n",
       "    </tr>\n",
       "    <tr>\n",
       "      <th>4</th>\n",
       "      <td>778243827</td>\n",
       "      <td>True</td>\n",
       "      <td>golden</td>\n",
       "      <td>138</td>\n",
       "      <td>NaN</td>\n",
       "      <td>Relevant</td>\n",
       "      <td>1.0000</td>\n",
       "      <td>Relevant</td>\n",
       "      <td>NaN</td>\n",
       "      <td>NaN</td>\n",
       "      <td>Forest fire near La Ronge Sask. Canada</td>\n",
       "      <td>16.0</td>\n",
       "      <td>NaN</td>\n",
       "    </tr>\n",
       "  </tbody>\n",
       "</table>\n",
       "</div>"
      ],
      "text/plain": [
       "    _unit_id  _golden _unit_state  _trusted_judgments _last_judgment_at  \\\n",
       "0  778243823     True      golden                 156               NaN   \n",
       "1  778243824     True      golden                 152               NaN   \n",
       "2  778243825     True      golden                 137               NaN   \n",
       "3  778243826     True      golden                 136               NaN   \n",
       "4  778243827     True      golden                 138               NaN   \n",
       "\n",
       "  choose_one  choose_one:confidence choose_one_gold keyword location  \\\n",
       "0   Relevant                 1.0000        Relevant     NaN      NaN   \n",
       "1   Relevant                 1.0000        Relevant     NaN      NaN   \n",
       "2   Relevant                 1.0000        Relevant     NaN      NaN   \n",
       "3   Relevant                 0.9603        Relevant     NaN      NaN   \n",
       "4   Relevant                 1.0000        Relevant     NaN      NaN   \n",
       "\n",
       "                                                text  tweetid  userid  \n",
       "0                 Just happened a terrible car crash      1.0     NaN  \n",
       "1  Our Deeds are the Reason of this #earthquake M...     13.0     NaN  \n",
       "2  Heard about #earthquake is different cities, s...     14.0     NaN  \n",
       "3  there is a forest fire at spot pond, geese are...     15.0     NaN  \n",
       "4             Forest fire near La Ronge Sask. Canada     16.0     NaN  "
      ]
     },
     "execution_count": 6,
     "metadata": {},
     "output_type": "execute_result"
    }
   ],
   "source": [
    "df.head()"
   ]
  },
  {
   "cell_type": "code",
   "execution_count": 9,
   "metadata": {},
   "outputs": [
    {
     "data": {
      "text/plain": [
       "Not Relevant    6187\n",
       "Relevant        4673\n",
       "Can't Decide      16\n",
       "Name: choose_one, dtype: int64"
      ]
     },
     "execution_count": 9,
     "metadata": {},
     "output_type": "execute_result"
    }
   ],
   "source": [
    "df['choose_one'].value_counts()"
   ]
  },
  {
   "cell_type": "markdown",
   "metadata": {},
   "source": [
    "#### Tokenization"
   ]
  },
  {
   "cell_type": "code",
   "execution_count": 8,
   "metadata": {
    "collapsed": true
   },
   "outputs": [],
   "source": [
    "df['word_list']  = df['text'].apply(lambda x: word_tokenize(x))"
   ]
  },
  {
   "cell_type": "code",
   "execution_count": 9,
   "metadata": {
    "collapsed": true
   },
   "outputs": [],
   "source": [
    "df['sentence_list']  = df['text'].apply(lambda x: sent_tokenize(x))"
   ]
  },
  {
   "cell_type": "code",
   "execution_count": 10,
   "metadata": {
    "collapsed": true
   },
   "outputs": [],
   "source": [
    "df['hashtags'] = df['text'].apply(lambda x: regexp_tokenize(x, r\"@\\w+|#\\w+\"))"
   ]
  },
  {
   "cell_type": "code",
   "execution_count": 11,
   "metadata": {},
   "outputs": [
    {
     "data": {
      "text/html": [
       "<div>\n",
       "<style scoped>\n",
       "    .dataframe tbody tr th:only-of-type {\n",
       "        vertical-align: middle;\n",
       "    }\n",
       "\n",
       "    .dataframe tbody tr th {\n",
       "        vertical-align: top;\n",
       "    }\n",
       "\n",
       "    .dataframe thead th {\n",
       "        text-align: right;\n",
       "    }\n",
       "</style>\n",
       "<table border=\"1\" class=\"dataframe\">\n",
       "  <thead>\n",
       "    <tr style=\"text-align: right;\">\n",
       "      <th></th>\n",
       "      <th>text</th>\n",
       "      <th>word_list</th>\n",
       "      <th>sentence_list</th>\n",
       "      <th>hashtags</th>\n",
       "    </tr>\n",
       "  </thead>\n",
       "  <tbody>\n",
       "    <tr>\n",
       "      <th>0</th>\n",
       "      <td>Just happened a terrible car crash</td>\n",
       "      <td>[Just, happened, a, terrible, car, crash]</td>\n",
       "      <td>[Just happened a terrible car crash]</td>\n",
       "      <td>[]</td>\n",
       "    </tr>\n",
       "    <tr>\n",
       "      <th>1</th>\n",
       "      <td>Our Deeds are the Reason of this #earthquake M...</td>\n",
       "      <td>[Our, Deeds, are, the, Reason, of, this, #, ea...</td>\n",
       "      <td>[Our Deeds are the Reason of this #earthquake ...</td>\n",
       "      <td>[#earthquake]</td>\n",
       "    </tr>\n",
       "    <tr>\n",
       "      <th>2</th>\n",
       "      <td>Heard about #earthquake is different cities, s...</td>\n",
       "      <td>[Heard, about, #, earthquake, is, different, c...</td>\n",
       "      <td>[Heard about #earthquake is different cities, ...</td>\n",
       "      <td>[#earthquake]</td>\n",
       "    </tr>\n",
       "    <tr>\n",
       "      <th>3</th>\n",
       "      <td>there is a forest fire at spot pond, geese are...</td>\n",
       "      <td>[there, is, a, forest, fire, at, spot, pond, ,...</td>\n",
       "      <td>[there is a forest fire at spot pond, geese ar...</td>\n",
       "      <td>[]</td>\n",
       "    </tr>\n",
       "    <tr>\n",
       "      <th>4</th>\n",
       "      <td>Forest fire near La Ronge Sask. Canada</td>\n",
       "      <td>[Forest, fire, near, La, Ronge, Sask, ., Canada]</td>\n",
       "      <td>[Forest fire near La Ronge Sask., Canada]</td>\n",
       "      <td>[]</td>\n",
       "    </tr>\n",
       "    <tr>\n",
       "      <th>5</th>\n",
       "      <td>All residents asked to 'shelter in place' are ...</td>\n",
       "      <td>[All, residents, asked, to, 'shelter, in, plac...</td>\n",
       "      <td>[All residents asked to 'shelter in place' are...</td>\n",
       "      <td>[]</td>\n",
       "    </tr>\n",
       "    <tr>\n",
       "      <th>6</th>\n",
       "      <td>13,000 people receive #wildfires evacuation or...</td>\n",
       "      <td>[13,000, people, receive, #, wildfires, evacua...</td>\n",
       "      <td>[13,000 people receive #wildfires evacuation o...</td>\n",
       "      <td>[#wildfires]</td>\n",
       "    </tr>\n",
       "    <tr>\n",
       "      <th>7</th>\n",
       "      <td>Just got sent this photo from Ruby #Alaska as ...</td>\n",
       "      <td>[Just, got, sent, this, photo, from, Ruby, #, ...</td>\n",
       "      <td>[Just got sent this photo from Ruby #Alaska as...</td>\n",
       "      <td>[#Alaska, #wildfires]</td>\n",
       "    </tr>\n",
       "    <tr>\n",
       "      <th>8</th>\n",
       "      <td>#RockyFire Update =&gt; California Hwy. 20 closed...</td>\n",
       "      <td>[#, RockyFire, Update, =, &gt;, California, Hwy, ...</td>\n",
       "      <td>[#RockyFire Update =&gt; California Hwy., 20 clos...</td>\n",
       "      <td>[#RockyFire, #CAfire, #wildfires]</td>\n",
       "    </tr>\n",
       "    <tr>\n",
       "      <th>9</th>\n",
       "      <td>Apocalypse lighting. #Spokane #wildfires</td>\n",
       "      <td>[Apocalypse, lighting, ., #, Spokane, #, wildf...</td>\n",
       "      <td>[Apocalypse lighting., #Spokane #wildfires]</td>\n",
       "      <td>[#Spokane, #wildfires]</td>\n",
       "    </tr>\n",
       "    <tr>\n",
       "      <th>10</th>\n",
       "      <td>#flood #disaster Heavy rain causes flash flood...</td>\n",
       "      <td>[#, flood, #, disaster, Heavy, rain, causes, f...</td>\n",
       "      <td>[#flood #disaster Heavy rain causes flash floo...</td>\n",
       "      <td>[#flood, #disaster]</td>\n",
       "    </tr>\n",
       "    <tr>\n",
       "      <th>11</th>\n",
       "      <td>Typhoon Soudelor kills 28 in China and Taiwan</td>\n",
       "      <td>[Typhoon, Soudelor, kills, 28, in, China, and,...</td>\n",
       "      <td>[Typhoon Soudelor kills 28 in China and Taiwan]</td>\n",
       "      <td>[]</td>\n",
       "    </tr>\n",
       "    <tr>\n",
       "      <th>12</th>\n",
       "      <td>We're shaking...It's an earthquake</td>\n",
       "      <td>[We, 're, shaking, ..., It, 's, an, earthquake]</td>\n",
       "      <td>[We're shaking...It's an earthquake]</td>\n",
       "      <td>[]</td>\n",
       "    </tr>\n",
       "    <tr>\n",
       "      <th>13</th>\n",
       "      <td>I'm on top of the hill and I can see a fire in...</td>\n",
       "      <td>[I, 'm, on, top, of, the, hill, and, I, can, s...</td>\n",
       "      <td>[I'm on top of the hill and I can see a fire i...</td>\n",
       "      <td>[]</td>\n",
       "    </tr>\n",
       "    <tr>\n",
       "      <th>14</th>\n",
       "      <td>There's an emergency evacuation happening now ...</td>\n",
       "      <td>[There, 's, an, emergency, evacuation, happeni...</td>\n",
       "      <td>[There's an emergency evacuation happening now...</td>\n",
       "      <td>[]</td>\n",
       "    </tr>\n",
       "    <tr>\n",
       "      <th>15</th>\n",
       "      <td>I'm afraid that the tornado is coming to our a...</td>\n",
       "      <td>[I, 'm, afraid, that, the, tornado, is, coming...</td>\n",
       "      <td>[I'm afraid that the tornado is coming to our ...</td>\n",
       "      <td>[]</td>\n",
       "    </tr>\n",
       "    <tr>\n",
       "      <th>16</th>\n",
       "      <td>Three people died from the heat wave so far</td>\n",
       "      <td>[Three, people, died, from, the, heat, wave, s...</td>\n",
       "      <td>[Three people died from the heat wave so far]</td>\n",
       "      <td>[]</td>\n",
       "    </tr>\n",
       "    <tr>\n",
       "      <th>17</th>\n",
       "      <td>Haha South Tampa is getting flooded hah- WAIT ...</td>\n",
       "      <td>[Haha, South, Tampa, is, getting, flooded, hah...</td>\n",
       "      <td>[Haha South Tampa is getting flooded hah- WAIT...</td>\n",
       "      <td>[#flooding]</td>\n",
       "    </tr>\n",
       "    <tr>\n",
       "      <th>18</th>\n",
       "      <td>#raining #flooding #Florida #TampaBay #Tampa 1...</td>\n",
       "      <td>[#, raining, #, flooding, #, Florida, #, Tampa...</td>\n",
       "      <td>[#raining #flooding #Florida #TampaBay #Tampa ...</td>\n",
       "      <td>[#raining, #flooding, #Florida, #TampaBay, #Ta...</td>\n",
       "    </tr>\n",
       "    <tr>\n",
       "      <th>19</th>\n",
       "      <td>#Flood in Bago Myanmar #We arrived Bago</td>\n",
       "      <td>[#, Flood, in, Bago, Myanmar, #, We, arrived, ...</td>\n",
       "      <td>[#Flood in Bago Myanmar #We arrived Bago]</td>\n",
       "      <td>[#Flood, #We]</td>\n",
       "    </tr>\n",
       "  </tbody>\n",
       "</table>\n",
       "</div>"
      ],
      "text/plain": [
       "                                                 text  \\\n",
       "0                  Just happened a terrible car crash   \n",
       "1   Our Deeds are the Reason of this #earthquake M...   \n",
       "2   Heard about #earthquake is different cities, s...   \n",
       "3   there is a forest fire at spot pond, geese are...   \n",
       "4              Forest fire near La Ronge Sask. Canada   \n",
       "5   All residents asked to 'shelter in place' are ...   \n",
       "6   13,000 people receive #wildfires evacuation or...   \n",
       "7   Just got sent this photo from Ruby #Alaska as ...   \n",
       "8   #RockyFire Update => California Hwy. 20 closed...   \n",
       "9            Apocalypse lighting. #Spokane #wildfires   \n",
       "10  #flood #disaster Heavy rain causes flash flood...   \n",
       "11      Typhoon Soudelor kills 28 in China and Taiwan   \n",
       "12                 We're shaking...It's an earthquake   \n",
       "13  I'm on top of the hill and I can see a fire in...   \n",
       "14  There's an emergency evacuation happening now ...   \n",
       "15  I'm afraid that the tornado is coming to our a...   \n",
       "16        Three people died from the heat wave so far   \n",
       "17  Haha South Tampa is getting flooded hah- WAIT ...   \n",
       "18  #raining #flooding #Florida #TampaBay #Tampa 1...   \n",
       "19            #Flood in Bago Myanmar #We arrived Bago   \n",
       "\n",
       "                                            word_list  \\\n",
       "0           [Just, happened, a, terrible, car, crash]   \n",
       "1   [Our, Deeds, are, the, Reason, of, this, #, ea...   \n",
       "2   [Heard, about, #, earthquake, is, different, c...   \n",
       "3   [there, is, a, forest, fire, at, spot, pond, ,...   \n",
       "4    [Forest, fire, near, La, Ronge, Sask, ., Canada]   \n",
       "5   [All, residents, asked, to, 'shelter, in, plac...   \n",
       "6   [13,000, people, receive, #, wildfires, evacua...   \n",
       "7   [Just, got, sent, this, photo, from, Ruby, #, ...   \n",
       "8   [#, RockyFire, Update, =, >, California, Hwy, ...   \n",
       "9   [Apocalypse, lighting, ., #, Spokane, #, wildf...   \n",
       "10  [#, flood, #, disaster, Heavy, rain, causes, f...   \n",
       "11  [Typhoon, Soudelor, kills, 28, in, China, and,...   \n",
       "12    [We, 're, shaking, ..., It, 's, an, earthquake]   \n",
       "13  [I, 'm, on, top, of, the, hill, and, I, can, s...   \n",
       "14  [There, 's, an, emergency, evacuation, happeni...   \n",
       "15  [I, 'm, afraid, that, the, tornado, is, coming...   \n",
       "16  [Three, people, died, from, the, heat, wave, s...   \n",
       "17  [Haha, South, Tampa, is, getting, flooded, hah...   \n",
       "18  [#, raining, #, flooding, #, Florida, #, Tampa...   \n",
       "19  [#, Flood, in, Bago, Myanmar, #, We, arrived, ...   \n",
       "\n",
       "                                        sentence_list  \\\n",
       "0                [Just happened a terrible car crash]   \n",
       "1   [Our Deeds are the Reason of this #earthquake ...   \n",
       "2   [Heard about #earthquake is different cities, ...   \n",
       "3   [there is a forest fire at spot pond, geese ar...   \n",
       "4           [Forest fire near La Ronge Sask., Canada]   \n",
       "5   [All residents asked to 'shelter in place' are...   \n",
       "6   [13,000 people receive #wildfires evacuation o...   \n",
       "7   [Just got sent this photo from Ruby #Alaska as...   \n",
       "8   [#RockyFire Update => California Hwy., 20 clos...   \n",
       "9         [Apocalypse lighting., #Spokane #wildfires]   \n",
       "10  [#flood #disaster Heavy rain causes flash floo...   \n",
       "11    [Typhoon Soudelor kills 28 in China and Taiwan]   \n",
       "12               [We're shaking...It's an earthquake]   \n",
       "13  [I'm on top of the hill and I can see a fire i...   \n",
       "14  [There's an emergency evacuation happening now...   \n",
       "15  [I'm afraid that the tornado is coming to our ...   \n",
       "16      [Three people died from the heat wave so far]   \n",
       "17  [Haha South Tampa is getting flooded hah- WAIT...   \n",
       "18  [#raining #flooding #Florida #TampaBay #Tampa ...   \n",
       "19          [#Flood in Bago Myanmar #We arrived Bago]   \n",
       "\n",
       "                                             hashtags  \n",
       "0                                                  []  \n",
       "1                                       [#earthquake]  \n",
       "2                                       [#earthquake]  \n",
       "3                                                  []  \n",
       "4                                                  []  \n",
       "5                                                  []  \n",
       "6                                        [#wildfires]  \n",
       "7                               [#Alaska, #wildfires]  \n",
       "8                   [#RockyFire, #CAfire, #wildfires]  \n",
       "9                              [#Spokane, #wildfires]  \n",
       "10                                [#flood, #disaster]  \n",
       "11                                                 []  \n",
       "12                                                 []  \n",
       "13                                                 []  \n",
       "14                                                 []  \n",
       "15                                                 []  \n",
       "16                                                 []  \n",
       "17                                        [#flooding]  \n",
       "18  [#raining, #flooding, #Florida, #TampaBay, #Ta...  \n",
       "19                                      [#Flood, #We]  "
      ]
     },
     "execution_count": 11,
     "metadata": {},
     "output_type": "execute_result"
    }
   ],
   "source": [
    "df[['text','word_list', 'sentence_list','hashtags']].head(20)"
   ]
  },
  {
   "cell_type": "code",
   "execution_count": 12,
   "metadata": {
    "collapsed": true
   },
   "outputs": [],
   "source": [
    "tknz = TweetTokenizer()"
   ]
  },
  {
   "cell_type": "code",
   "execution_count": 13,
   "metadata": {
    "collapsed": true
   },
   "outputs": [],
   "source": [
    "all_tokens = [tknz.tokenize(t) for t in df['text'].values[:10]]"
   ]
  },
  {
   "cell_type": "code",
   "execution_count": 14,
   "metadata": {},
   "outputs": [
    {
     "data": {
      "text/plain": [
       "[['Just', 'happened', 'a', 'terrible', 'car', 'crash'],\n",
       " ['Our',\n",
       "  'Deeds',\n",
       "  'are',\n",
       "  'the',\n",
       "  'Reason',\n",
       "  'of',\n",
       "  'this',\n",
       "  '#earthquake',\n",
       "  'May',\n",
       "  'ALLAH',\n",
       "  'Forgive',\n",
       "  'us',\n",
       "  'all'],\n",
       " ['Heard',\n",
       "  'about',\n",
       "  '#earthquake',\n",
       "  'is',\n",
       "  'different',\n",
       "  'cities',\n",
       "  ',',\n",
       "  'stay',\n",
       "  'safe',\n",
       "  'everyone',\n",
       "  '.'],\n",
       " ['there',\n",
       "  'is',\n",
       "  'a',\n",
       "  'forest',\n",
       "  'fire',\n",
       "  'at',\n",
       "  'spot',\n",
       "  'pond',\n",
       "  ',',\n",
       "  'geese',\n",
       "  'are',\n",
       "  'fleeing',\n",
       "  'across',\n",
       "  'the',\n",
       "  'street',\n",
       "  ',',\n",
       "  'I',\n",
       "  'cannot',\n",
       "  'save',\n",
       "  'them',\n",
       "  'all'],\n",
       " ['Forest', 'fire', 'near', 'La', 'Ronge', 'Sask', '.', 'Canada'],\n",
       " ['All',\n",
       "  'residents',\n",
       "  'asked',\n",
       "  'to',\n",
       "  \"'\",\n",
       "  'shelter',\n",
       "  'in',\n",
       "  'place',\n",
       "  \"'\",\n",
       "  'are',\n",
       "  'being',\n",
       "  'notified',\n",
       "  'by',\n",
       "  'officers',\n",
       "  '.',\n",
       "  'No',\n",
       "  'other',\n",
       "  'evacuation',\n",
       "  'or',\n",
       "  'shelter',\n",
       "  'in',\n",
       "  'place',\n",
       "  'orders',\n",
       "  'are',\n",
       "  'expected'],\n",
       " ['13,000',\n",
       "  'people',\n",
       "  'receive',\n",
       "  '#wildfires',\n",
       "  'evacuation',\n",
       "  'orders',\n",
       "  'in',\n",
       "  'California'],\n",
       " ['Just',\n",
       "  'got',\n",
       "  'sent',\n",
       "  'this',\n",
       "  'photo',\n",
       "  'from',\n",
       "  'Ruby',\n",
       "  '#Alaska',\n",
       "  'as',\n",
       "  'smoke',\n",
       "  'from',\n",
       "  '#wildfires',\n",
       "  'pours',\n",
       "  'into',\n",
       "  'a',\n",
       "  'school'],\n",
       " ['#RockyFire',\n",
       "  'Update',\n",
       "  '=',\n",
       "  '>',\n",
       "  'California',\n",
       "  'Hwy',\n",
       "  '.',\n",
       "  '20',\n",
       "  'closed',\n",
       "  'in',\n",
       "  'both',\n",
       "  'directions',\n",
       "  'due',\n",
       "  'to',\n",
       "  'Lake',\n",
       "  'County',\n",
       "  'fire',\n",
       "  '-',\n",
       "  '#CAfire',\n",
       "  '#wildfires'],\n",
       " ['Apocalypse', 'lighting', '.', '#Spokane', '#wildfires']]"
      ]
     },
     "execution_count": 14,
     "metadata": {},
     "output_type": "execute_result"
    }
   ],
   "source": [
    "all_tokens"
   ]
  },
  {
   "cell_type": "markdown",
   "metadata": {},
   "source": [
    "#### Words and word length"
   ]
  },
  {
   "cell_type": "code",
   "execution_count": 15,
   "metadata": {},
   "outputs": [
    {
     "data": {
      "image/png": "[encoded data removed]",
      "text/plain": [
       "<Figure size 432x288 with 1 Axes>"
      ]
     },
     "metadata": {
      "needs_background": "light"
     },
     "output_type": "display_data"
    }
   ],
   "source": [
    "df['n_words'] = df['word_list'].apply(lambda x: len(x))\n",
    "plt.hist(df['n_words'], bins=40)\n",
    "plt.show()"
   ]
  },
  {
   "cell_type": "code",
   "execution_count": 16,
   "metadata": {},
   "outputs": [
    {
     "data": {
      "image/png": "[encoded data removed]",
      "text/plain": [
       "<Figure size 432x288 with 1 Axes>"
      ]
     },
     "metadata": {
      "needs_background": "light"
     },
     "output_type": "display_data"
    }
   ],
   "source": [
    "# Word lengths\n",
    "word_lengths = [len(w) for t in df['word_list'].values for w in t]\n",
    "plt.hist(word_lengths, bins=40)\n",
    "plt.show()"
   ]
  },
  {
   "cell_type": "code",
   "execution_count": 17,
   "metadata": {},
   "outputs": [
    {
     "data": {
      "image/png": "[encoded data removed]",
      "text/plain": [
       "<Figure size 432x288 with 1 Axes>"
      ]
     },
     "metadata": {
      "needs_background": "light"
     },
     "output_type": "display_data"
    }
   ],
   "source": [
    "# Average word length\n",
    "df['avg_word_len'] = df['word_list'].apply(lambda x: np.mean([len(w) for w in x]))\n",
    "plt.hist(df['avg_word_len'], bins=40)\n",
    "plt.show()"
   ]
  },
  {
   "cell_type": "markdown",
   "metadata": {},
   "source": [
    "##### Text preprocessing"
   ]
  },
  {
   "cell_type": "code",
   "execution_count": 22,
   "metadata": {
    "collapsed": true
   },
   "outputs": [],
   "source": [
    "processed_tokens = all_word_tokens\n",
    "# Keep only alphabetic tokens\n",
    "# Note this will remove hashtags and mentions\n",
    "processed_tokens = [word for word in processed_tokens if word.isalpha()]\n",
    "# Remove stopwords\n",
    "processed_tokens = [word for word in processed_tokens if word not in stopwords.words('english')]\n",
    "# WordNetLemmatizer\n",
    "lemmatizer = WordNetLemmatizer()\n",
    "processed_tokens = [lemmatizer.lemmatize(word) for word in processed_tokens]\n"
   ]
  },
  {
   "cell_type": "code",
   "execution_count": 23,
   "metadata": {
    "collapsed": true
   },
   "outputs": [],
   "source": [
    "processed_token_counter = Counter(processed_tokens)"
   ]
  },
  {
   "cell_type": "code",
   "execution_count": 24,
   "metadata": {},
   "outputs": [
    {
     "data": {
      "text/plain": [
       "[('fire', 516),\n",
       " ('amp', 510),\n",
       " ('like', 495),\n",
       " ('get', 381),\n",
       " ('u', 355),\n",
       " ('new', 328),\n",
       " ('via', 325),\n",
       " ('one', 296),\n",
       " ('people', 283),\n",
       " ('year', 253),\n",
       " ('video', 234),\n",
       " ('time', 230),\n",
       " ('emergency', 227),\n",
       " ('would', 214),\n",
       " ('disaster', 214)]"
      ]
     },
     "execution_count": 24,
     "metadata": {},
     "output_type": "execute_result"
    }
   ],
   "source": [
    "processed_token_counter.most_common(15)"
   ]
  },
  {
   "cell_type": "markdown",
   "metadata": {},
   "source": [
    "# Naive Bayes"
   ]
  },
  {
   "cell_type": "code",
   "execution_count": null,
   "metadata": {
    "collapsed": true
   },
   "outputs": [],
   "source": [
    "y = df['choose_one']=='Relevant'"
   ]
  },
  {
   "cell_type": "code",
   "execution_count": 12,
   "metadata": {
    "collapsed": true
   },
   "outputs": [],
   "source": [
    "X_train, X_test, y_train, y_test = train_test_split(df['text'], y, test_size=0.33, random_state=53)"
   ]
  },
  {
   "cell_type": "code",
   "execution_count": 13,
   "metadata": {
    "collapsed": true
   },
   "outputs": [],
   "source": [
    "count_vectorizer = CountVectorizer(stop_words='english')"
   ]
  },
  {
   "cell_type": "code",
   "execution_count": 16,
   "metadata": {
    "collapsed": true
   },
   "outputs": [],
   "source": [
    "# Note the difference between transform and fit_transforma\n",
    "count_train = count_vectorizer.fit_transform(X_train.values)"
   ]
  },
  {
   "cell_type": "code",
   "execution_count": 18,
   "metadata": {
    "collapsed": true
   },
   "outputs": [],
   "source": [
    "count_test = count_vectorizer.transform(X_test.values)"
   ]
  },
  {
   "cell_type": "code",
   "execution_count": 25,
   "metadata": {},
   "outputs": [
    {
     "data": {
      "text/plain": [
       "['00',\n",
       " '000',\n",
       " '0000',\n",
       " '007npen6lg',\n",
       " '00cy9vxeff',\n",
       " '00end',\n",
       " '00pm',\n",
       " '01',\n",
       " '01hux8y9gi',\n",
       " '02']"
      ]
     },
     "execution_count": 25,
     "metadata": {},
     "output_type": "execute_result"
    }
   ],
   "source": [
    "count_vectorizer.get_feature_names()[:10]"
   ]
  },
  {
   "cell_type": "code",
   "execution_count": 26,
   "metadata": {
    "collapsed": true
   },
   "outputs": [],
   "source": [
    "tfidf_vectorizer = TfidfVectorizer(stop_words='english', max_df=0.7)"
   ]
  },
  {
   "cell_type": "code",
   "execution_count": 27,
   "metadata": {
    "collapsed": true
   },
   "outputs": [],
   "source": [
    "tfidf_train = tfidf_vectorizer.fit_transform(X_train.values)"
   ]
  },
  {
   "cell_type": "code",
   "execution_count": 28,
   "metadata": {
    "collapsed": true
   },
   "outputs": [],
   "source": [
    "tfidf_test = tfidf_vectorizer.transform(X_test.values)"
   ]
  },
  {
   "cell_type": "code",
   "execution_count": 35,
   "metadata": {},
   "outputs": [
    {
     "data": {
      "text/html": [
       "<div>\n",
       "<style scoped>\n",
       "    .dataframe tbody tr th:only-of-type {\n",
       "        vertical-align: middle;\n",
       "    }\n",
       "\n",
       "    .dataframe tbody tr th {\n",
       "        vertical-align: top;\n",
       "    }\n",
       "\n",
       "    .dataframe thead th {\n",
       "        text-align: right;\n",
       "    }\n",
       "</style>\n",
       "<table border=\"1\" class=\"dataframe\">\n",
       "  <thead>\n",
       "    <tr style=\"text-align: right;\">\n",
       "      <th></th>\n",
       "      <th>00</th>\n",
       "      <th>000</th>\n",
       "      <th>0000</th>\n",
       "      <th>007npen6lg</th>\n",
       "      <th>00cy9vxeff</th>\n",
       "      <th>00end</th>\n",
       "      <th>00pm</th>\n",
       "      <th>01</th>\n",
       "      <th>01hux8y9gi</th>\n",
       "      <th>02</th>\n",
       "      <th>...</th>\n",
       "      <th>ûò</th>\n",
       "      <th>ûò7</th>\n",
       "      <th>ûò800000</th>\n",
       "      <th>ûòåêcnbc</th>\n",
       "      <th>ûó</th>\n",
       "      <th>ûóher</th>\n",
       "      <th>ûókill</th>\n",
       "      <th>ûónegligence</th>\n",
       "      <th>ûótech</th>\n",
       "      <th>ûówe</th>\n",
       "    </tr>\n",
       "  </thead>\n",
       "  <tbody>\n",
       "    <tr>\n",
       "      <th>0</th>\n",
       "      <td>0</td>\n",
       "      <td>0</td>\n",
       "      <td>0</td>\n",
       "      <td>0</td>\n",
       "      <td>0</td>\n",
       "      <td>0</td>\n",
       "      <td>0</td>\n",
       "      <td>0</td>\n",
       "      <td>0</td>\n",
       "      <td>0</td>\n",
       "      <td>...</td>\n",
       "      <td>0</td>\n",
       "      <td>0</td>\n",
       "      <td>0</td>\n",
       "      <td>0</td>\n",
       "      <td>0</td>\n",
       "      <td>0</td>\n",
       "      <td>0</td>\n",
       "      <td>0</td>\n",
       "      <td>0</td>\n",
       "      <td>0</td>\n",
       "    </tr>\n",
       "    <tr>\n",
       "      <th>1</th>\n",
       "      <td>0</td>\n",
       "      <td>0</td>\n",
       "      <td>0</td>\n",
       "      <td>0</td>\n",
       "      <td>0</td>\n",
       "      <td>0</td>\n",
       "      <td>0</td>\n",
       "      <td>0</td>\n",
       "      <td>0</td>\n",
       "      <td>0</td>\n",
       "      <td>...</td>\n",
       "      <td>0</td>\n",
       "      <td>0</td>\n",
       "      <td>0</td>\n",
       "      <td>0</td>\n",
       "      <td>0</td>\n",
       "      <td>0</td>\n",
       "      <td>0</td>\n",
       "      <td>0</td>\n",
       "      <td>0</td>\n",
       "      <td>0</td>\n",
       "    </tr>\n",
       "    <tr>\n",
       "      <th>2</th>\n",
       "      <td>0</td>\n",
       "      <td>0</td>\n",
       "      <td>0</td>\n",
       "      <td>0</td>\n",
       "      <td>0</td>\n",
       "      <td>0</td>\n",
       "      <td>0</td>\n",
       "      <td>0</td>\n",
       "      <td>0</td>\n",
       "      <td>0</td>\n",
       "      <td>...</td>\n",
       "      <td>0</td>\n",
       "      <td>0</td>\n",
       "      <td>0</td>\n",
       "      <td>0</td>\n",
       "      <td>0</td>\n",
       "      <td>0</td>\n",
       "      <td>0</td>\n",
       "      <td>0</td>\n",
       "      <td>0</td>\n",
       "      <td>0</td>\n",
       "    </tr>\n",
       "    <tr>\n",
       "      <th>3</th>\n",
       "      <td>0</td>\n",
       "      <td>0</td>\n",
       "      <td>0</td>\n",
       "      <td>0</td>\n",
       "      <td>0</td>\n",
       "      <td>0</td>\n",
       "      <td>0</td>\n",
       "      <td>0</td>\n",
       "      <td>0</td>\n",
       "      <td>0</td>\n",
       "      <td>...</td>\n",
       "      <td>0</td>\n",
       "      <td>0</td>\n",
       "      <td>0</td>\n",
       "      <td>0</td>\n",
       "      <td>0</td>\n",
       "      <td>0</td>\n",
       "      <td>0</td>\n",
       "      <td>0</td>\n",
       "      <td>0</td>\n",
       "      <td>0</td>\n",
       "    </tr>\n",
       "    <tr>\n",
       "      <th>4</th>\n",
       "      <td>0</td>\n",
       "      <td>0</td>\n",
       "      <td>0</td>\n",
       "      <td>0</td>\n",
       "      <td>0</td>\n",
       "      <td>0</td>\n",
       "      <td>0</td>\n",
       "      <td>0</td>\n",
       "      <td>0</td>\n",
       "      <td>0</td>\n",
       "      <td>...</td>\n",
       "      <td>0</td>\n",
       "      <td>0</td>\n",
       "      <td>0</td>\n",
       "      <td>0</td>\n",
       "      <td>0</td>\n",
       "      <td>0</td>\n",
       "      <td>0</td>\n",
       "      <td>0</td>\n",
       "      <td>0</td>\n",
       "      <td>0</td>\n",
       "    </tr>\n",
       "  </tbody>\n",
       "</table>\n",
       "<p>5 rows × 20899 columns</p>\n",
       "</div>"
      ],
      "text/plain": [
       "   00  000  0000  007npen6lg  00cy9vxeff  00end  00pm  01  01hux8y9gi  02  \\\n",
       "0   0    0     0           0           0      0     0   0           0   0   \n",
       "1   0    0     0           0           0      0     0   0           0   0   \n",
       "2   0    0     0           0           0      0     0   0           0   0   \n",
       "3   0    0     0           0           0      0     0   0           0   0   \n",
       "4   0    0     0           0           0      0     0   0           0   0   \n",
       "\n",
       "   ...   ûò  ûò7  ûò800000  ûòåêcnbc  ûó  ûóher  ûókill  ûónegligence  ûótech  \\\n",
       "0  ...    0    0         0         0   0      0       0             0       0   \n",
       "1  ...    0    0         0         0   0      0       0             0       0   \n",
       "2  ...    0    0         0         0   0      0       0             0       0   \n",
       "3  ...    0    0         0         0   0      0       0             0       0   \n",
       "4  ...    0    0         0         0   0      0       0             0       0   \n",
       "\n",
       "   ûówe  \n",
       "0     0  \n",
       "1     0  \n",
       "2     0  \n",
       "3     0  \n",
       "4     0  \n",
       "\n",
       "[5 rows x 20899 columns]"
      ]
     },
     "execution_count": 35,
     "metadata": {},
     "output_type": "execute_result"
    }
   ],
   "source": [
    "count_df = pd.DataFrame(count_train.A, columns=count_vectorizer.get_feature_names())\n",
    "count_df.head()"
   ]
  },
  {
   "cell_type": "code",
   "execution_count": 37,
   "metadata": {},
   "outputs": [
    {
     "data": {
      "text/html": [
       "<div>\n",
       "<style scoped>\n",
       "    .dataframe tbody tr th:only-of-type {\n",
       "        vertical-align: middle;\n",
       "    }\n",
       "\n",
       "    .dataframe tbody tr th {\n",
       "        vertical-align: top;\n",
       "    }\n",
       "\n",
       "    .dataframe thead th {\n",
       "        text-align: right;\n",
       "    }\n",
       "</style>\n",
       "<table border=\"1\" class=\"dataframe\">\n",
       "  <thead>\n",
       "    <tr style=\"text-align: right;\">\n",
       "      <th></th>\n",
       "      <th>00</th>\n",
       "      <th>000</th>\n",
       "      <th>0000</th>\n",
       "      <th>007npen6lg</th>\n",
       "      <th>00cy9vxeff</th>\n",
       "      <th>00end</th>\n",
       "      <th>00pm</th>\n",
       "      <th>01</th>\n",
       "      <th>01hux8y9gi</th>\n",
       "      <th>02</th>\n",
       "      <th>...</th>\n",
       "      <th>ûò</th>\n",
       "      <th>ûò7</th>\n",
       "      <th>ûò800000</th>\n",
       "      <th>ûòåêcnbc</th>\n",
       "      <th>ûó</th>\n",
       "      <th>ûóher</th>\n",
       "      <th>ûókill</th>\n",
       "      <th>ûónegligence</th>\n",
       "      <th>ûótech</th>\n",
       "      <th>ûówe</th>\n",
       "    </tr>\n",
       "  </thead>\n",
       "  <tbody>\n",
       "    <tr>\n",
       "      <th>0</th>\n",
       "      <td>0.0</td>\n",
       "      <td>0.0</td>\n",
       "      <td>0.0</td>\n",
       "      <td>0.0</td>\n",
       "      <td>0.0</td>\n",
       "      <td>0.0</td>\n",
       "      <td>0.0</td>\n",
       "      <td>0.0</td>\n",
       "      <td>0.0</td>\n",
       "      <td>0.0</td>\n",
       "      <td>...</td>\n",
       "      <td>0.0</td>\n",
       "      <td>0.0</td>\n",
       "      <td>0.0</td>\n",
       "      <td>0.0</td>\n",
       "      <td>0.0</td>\n",
       "      <td>0.0</td>\n",
       "      <td>0.0</td>\n",
       "      <td>0.0</td>\n",
       "      <td>0.0</td>\n",
       "      <td>0.0</td>\n",
       "    </tr>\n",
       "    <tr>\n",
       "      <th>1</th>\n",
       "      <td>0.0</td>\n",
       "      <td>0.0</td>\n",
       "      <td>0.0</td>\n",
       "      <td>0.0</td>\n",
       "      <td>0.0</td>\n",
       "      <td>0.0</td>\n",
       "      <td>0.0</td>\n",
       "      <td>0.0</td>\n",
       "      <td>0.0</td>\n",
       "      <td>0.0</td>\n",
       "      <td>...</td>\n",
       "      <td>0.0</td>\n",
       "      <td>0.0</td>\n",
       "      <td>0.0</td>\n",
       "      <td>0.0</td>\n",
       "      <td>0.0</td>\n",
       "      <td>0.0</td>\n",
       "      <td>0.0</td>\n",
       "      <td>0.0</td>\n",
       "      <td>0.0</td>\n",
       "      <td>0.0</td>\n",
       "    </tr>\n",
       "    <tr>\n",
       "      <th>2</th>\n",
       "      <td>0.0</td>\n",
       "      <td>0.0</td>\n",
       "      <td>0.0</td>\n",
       "      <td>0.0</td>\n",
       "      <td>0.0</td>\n",
       "      <td>0.0</td>\n",
       "      <td>0.0</td>\n",
       "      <td>0.0</td>\n",
       "      <td>0.0</td>\n",
       "      <td>0.0</td>\n",
       "      <td>...</td>\n",
       "      <td>0.0</td>\n",
       "      <td>0.0</td>\n",
       "      <td>0.0</td>\n",
       "      <td>0.0</td>\n",
       "      <td>0.0</td>\n",
       "      <td>0.0</td>\n",
       "      <td>0.0</td>\n",
       "      <td>0.0</td>\n",
       "      <td>0.0</td>\n",
       "      <td>0.0</td>\n",
       "    </tr>\n",
       "    <tr>\n",
       "      <th>3</th>\n",
       "      <td>0.0</td>\n",
       "      <td>0.0</td>\n",
       "      <td>0.0</td>\n",
       "      <td>0.0</td>\n",
       "      <td>0.0</td>\n",
       "      <td>0.0</td>\n",
       "      <td>0.0</td>\n",
       "      <td>0.0</td>\n",
       "      <td>0.0</td>\n",
       "      <td>0.0</td>\n",
       "      <td>...</td>\n",
       "      <td>0.0</td>\n",
       "      <td>0.0</td>\n",
       "      <td>0.0</td>\n",
       "      <td>0.0</td>\n",
       "      <td>0.0</td>\n",
       "      <td>0.0</td>\n",
       "      <td>0.0</td>\n",
       "      <td>0.0</td>\n",
       "      <td>0.0</td>\n",
       "      <td>0.0</td>\n",
       "    </tr>\n",
       "    <tr>\n",
       "      <th>4</th>\n",
       "      <td>0.0</td>\n",
       "      <td>0.0</td>\n",
       "      <td>0.0</td>\n",
       "      <td>0.0</td>\n",
       "      <td>0.0</td>\n",
       "      <td>0.0</td>\n",
       "      <td>0.0</td>\n",
       "      <td>0.0</td>\n",
       "      <td>0.0</td>\n",
       "      <td>0.0</td>\n",
       "      <td>...</td>\n",
       "      <td>0.0</td>\n",
       "      <td>0.0</td>\n",
       "      <td>0.0</td>\n",
       "      <td>0.0</td>\n",
       "      <td>0.0</td>\n",
       "      <td>0.0</td>\n",
       "      <td>0.0</td>\n",
       "      <td>0.0</td>\n",
       "      <td>0.0</td>\n",
       "      <td>0.0</td>\n",
       "    </tr>\n",
       "  </tbody>\n",
       "</table>\n",
       "<p>5 rows × 20899 columns</p>\n",
       "</div>"
      ],
      "text/plain": [
       "    00  000  0000  007npen6lg  00cy9vxeff  00end  00pm   01  01hux8y9gi   02  \\\n",
       "0  0.0  0.0   0.0         0.0         0.0    0.0   0.0  0.0         0.0  0.0   \n",
       "1  0.0  0.0   0.0         0.0         0.0    0.0   0.0  0.0         0.0  0.0   \n",
       "2  0.0  0.0   0.0         0.0         0.0    0.0   0.0  0.0         0.0  0.0   \n",
       "3  0.0  0.0   0.0         0.0         0.0    0.0   0.0  0.0         0.0  0.0   \n",
       "4  0.0  0.0   0.0         0.0         0.0    0.0   0.0  0.0         0.0  0.0   \n",
       "\n",
       "   ...    ûò  ûò7  ûò800000  ûòåêcnbc   ûó  ûóher  ûókill  ûónegligence  \\\n",
       "0  ...   0.0  0.0       0.0       0.0  0.0    0.0     0.0           0.0   \n",
       "1  ...   0.0  0.0       0.0       0.0  0.0    0.0     0.0           0.0   \n",
       "2  ...   0.0  0.0       0.0       0.0  0.0    0.0     0.0           0.0   \n",
       "3  ...   0.0  0.0       0.0       0.0  0.0    0.0     0.0           0.0   \n",
       "4  ...   0.0  0.0       0.0       0.0  0.0    0.0     0.0           0.0   \n",
       "\n",
       "   ûótech  ûówe  \n",
       "0     0.0   0.0  \n",
       "1     0.0   0.0  \n",
       "2     0.0   0.0  \n",
       "3     0.0   0.0  \n",
       "4     0.0   0.0  \n",
       "\n",
       "[5 rows x 20899 columns]"
      ]
     },
     "execution_count": 37,
     "metadata": {},
     "output_type": "execute_result"
    }
   ],
   "source": [
    "tfidf_df = pd.DataFrame(tfidf_train.A, columns=tfidf_vectorizer.get_feature_names())\n",
    "tfidf_df.head()"
   ]
  },
  {
   "cell_type": "code",
   "execution_count": 38,
   "metadata": {},
   "outputs": [
    {
     "data": {
      "text/plain": [
       "False"
      ]
     },
     "execution_count": 38,
     "metadata": {},
     "output_type": "execute_result"
    }
   ],
   "source": [
    "count_df.equals(tfidf_df)"
   ]
  },
  {
   "cell_type": "code",
   "execution_count": 41,
   "metadata": {},
   "outputs": [
    {
     "data": {
      "text/plain": [
       "0.801949860724234"
      ]
     },
     "execution_count": 41,
     "metadata": {},
     "output_type": "execute_result"
    }
   ],
   "source": [
    "nb_classifier = MultinomialNB()\n",
    "nb_classifier.fit(count_train, y_train)\n",
    "pred = nb_classifier.predict(count_test)\n",
    "print(metrics.accuracy_score(pred, y_test))\n",
    "metrics.confusion_matrix(y_test, pred, labels=[0,1])"
   ]
  },
  {
   "cell_type": "code",
   "execution_count": 57,
   "metadata": {
    "collapsed": true
   },
   "outputs": [],
   "source": [
    "class_labels = nb_classifier.classes_\n",
    "feature_names = count_vectorizer.get_feature_names()\n",
    "\n",
    "features_with_weights = sorted(zip(feature_names, nb_classifier.coef_[0]), key=lambda x: x[1], reverse=True)"
   ]
  },
  {
   "cell_type": "code",
   "execution_count": 58,
   "metadata": {},
   "outputs": [
    {
     "data": {
      "text/plain": [
       "[('http', -5.197011421300342),\n",
       " ('news', -7.017874446951657),\n",
       " ('disaster', -7.043719321261869),\n",
       " ('û_', -7.071988862854877),\n",
       " ('hiroshima', -7.0784637795805505),\n",
       " ('suicide', -7.099441766583912),\n",
       " ('https', -7.104864563206208),\n",
       " ('california', -7.116086272663665),\n",
       " ('fires', -7.176443830692253),\n",
       " ('amp', -7.196376758935049)]"
      ]
     },
     "execution_count": 58,
     "metadata": {},
     "output_type": "execute_result"
    }
   ],
   "source": [
    "features_with_weights[:10]"
   ]
  },
  {
   "cell_type": "code",
   "execution_count": 61,
   "metadata": {},
   "outputs": [
    {
     "data": {
      "text/plain": [
       "[('ûïparties', -10.32882125127746),\n",
       " ('ûïsippin', -10.32882125127746),\n",
       " ('ûïstretcher', -10.32882125127746),\n",
       " ('ûïtell', -10.32882125127746),\n",
       " ('ûïthis', -10.32882125127746),\n",
       " ('ûïwarning', -10.32882125127746),\n",
       " ('ûïwe', -10.32882125127746),\n",
       " ('ûò7', -10.32882125127746),\n",
       " ('ûòåêcnbc', -10.32882125127746),\n",
       " ('ûótech', -10.32882125127746)]"
      ]
     },
     "execution_count": 61,
     "metadata": {},
     "output_type": "execute_result"
    }
   ],
   "source": [
    "features_with_weights[-10:]"
   ]
  },
  {
   "cell_type": "code",
   "execution_count": 47,
   "metadata": {
    "collapsed": true
   },
   "outputs": [],
   "source": [
    "def train_and_predict(alpha):\n",
    "    nb_classifier = MultinomialNB(alpha=alpha)\n",
    "    nb_classifier.fit(tfidf_train, y_train)\n",
    "    pred = nb_classifier.predict(tfidf_test)\n",
    "    score = metrics.accuracy_score(pred, y_test)\n",
    "    return score"
   ]
  },
  {
   "cell_type": "code",
   "execution_count": 48,
   "metadata": {
    "collapsed": true
   },
   "outputs": [],
   "source": [
    "alphas = np.arange(0,1,.1)"
   ]
  },
  {
   "cell_type": "code",
   "execution_count": 66,
   "metadata": {},
   "outputs": [
    {
     "name": "stderr",
     "output_type": "stream",
     "text": [
      "/usr/local/Cellar/python3/3.6.4_2/Frameworks/Python.framework/Versions/3.6/lib/python3.6/site-packages/sklearn/naive_bayes.py:480: UserWarning: alpha too small will result in numeric errors, setting alpha = 1.0e-10\n",
      "  'setting alpha = %.1e' % _ALPHA_MIN)\n"
     ]
    },
    {
     "data": {
      "image/png": "[encoded data removed]",
      "text/plain": [
       "<Figure size 432x288 with 1 Axes>"
      ]
     },
     "metadata": {
      "needs_background": "light"
     },
     "output_type": "display_data"
    }
   ],
   "source": [
    "# Iterate over the alphas and print the corresponding score\n",
    "plt.plot(alphas, [train_and_predict(alpha) for alpha in alphas])\n",
    "plt.xlabel('Alpha')\n",
    "plt.ylabel('Accuracy')\n",
    "plt.show()"
   ]
  },
  {
   "cell_type": "code",
   "execution_count": 44,
   "metadata": {},
   "outputs": [
    {
     "data": {
      "text/plain": [
       "array([[1886,  173],\n",
       "       [ 527, 1004]])"
      ]
     },
     "execution_count": 44,
     "metadata": {},
     "output_type": "execute_result"
    }
   ],
   "source": [
    "metrics.confusion_matrix(y_test, pred, labels=[0,1])"
   ]
  },
  {
   "cell_type": "code",
   "execution_count": null,
   "metadata": {
    "collapsed": true
   },
   "outputs": [],
   "source": []
  }
 ],
 "metadata": {
  "kernelspec": {
   "display_name": "Python 3",
   "language": "python",
   "name": "python3"
  },
  "language_info": {
   "codemirror_mode": {
    "name": "ipython",
    "version": 3
   },
   "file_extension": ".py",
   "mimetype": "text/x-python",
   "name": "python",
   "nbconvert_exporter": "python",
   "pygments_lexer": "ipython3",
   "version": "3.6.4"
  }
 },
 "nbformat": 4,
 "nbformat_minor": 2
}
