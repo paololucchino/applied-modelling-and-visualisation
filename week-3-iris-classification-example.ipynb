{
 "cells": [
  {
   "cell_type": "code",
   "execution_count": 97,
   "metadata": {},
   "outputs": [],
   "source": [
    "import numpy as np\n",
    "import matplotlib.pyplot as plt\n",
    "%matplotlib inline"
   ]
  },
  {
   "cell_type": "code",
   "execution_count": 98,
   "metadata": {},
   "outputs": [],
   "source": [
    "from sklearn.datasets import load_iris\n",
    "X, y = load_iris(return_X_y=True)"
   ]
  },
  {
   "cell_type": "code",
   "execution_count": 100,
   "metadata": {},
   "outputs": [
    {
     "data": {
      "text/plain": [
       "array([[5.1, 3.5, 1.4, 0.2],\n",
       "       [4.9, 3. , 1.4, 0.2],\n",
       "       [4.7, 3.2, 1.3, 0.2],\n",
       "       [4.6, 3.1, 1.5, 0.2],\n",
       "       [5. , 3.6, 1.4, 0.2],\n",
       "       [5.4, 3.9, 1.7, 0.4],\n",
       "       [4.6, 3.4, 1.4, 0.3],\n",
       "       [5. , 3.4, 1.5, 0.2],\n",
       "       [4.4, 2.9, 1.4, 0.2],\n",
       "       [4.9, 3.1, 1.5, 0.1],\n",
       "       [5.4, 3.7, 1.5, 0.2],\n",
       "       [4.8, 3.4, 1.6, 0.2],\n",
       "       [4.8, 3. , 1.4, 0.1],\n",
       "       [4.3, 3. , 1.1, 0.1],\n",
       "       [5.8, 4. , 1.2, 0.2],\n",
       "       [5.7, 4.4, 1.5, 0.4],\n",
       "       [5.4, 3.9, 1.3, 0.4],\n",
       "       [5.1, 3.5, 1.4, 0.3],\n",
       "       [5.7, 3.8, 1.7, 0.3],\n",
       "       [5.1, 3.8, 1.5, 0.3],\n",
       "       [5.4, 3.4, 1.7, 0.2],\n",
       "       [5.1, 3.7, 1.5, 0.4],\n",
       "       [4.6, 3.6, 1. , 0.2],\n",
       "       [5.1, 3.3, 1.7, 0.5],\n",
       "       [4.8, 3.4, 1.9, 0.2],\n",
       "       [5. , 3. , 1.6, 0.2],\n",
       "       [5. , 3.4, 1.6, 0.4],\n",
       "       [5.2, 3.5, 1.5, 0.2],\n",
       "       [5.2, 3.4, 1.4, 0.2],\n",
       "       [4.7, 3.2, 1.6, 0.2],\n",
       "       [4.8, 3.1, 1.6, 0.2],\n",
       "       [5.4, 3.4, 1.5, 0.4],\n",
       "       [5.2, 4.1, 1.5, 0.1],\n",
       "       [5.5, 4.2, 1.4, 0.2],\n",
       "       [4.9, 3.1, 1.5, 0.2],\n",
       "       [5. , 3.2, 1.2, 0.2],\n",
       "       [5.5, 3.5, 1.3, 0.2],\n",
       "       [4.9, 3.6, 1.4, 0.1],\n",
       "       [4.4, 3. , 1.3, 0.2],\n",
       "       [5.1, 3.4, 1.5, 0.2],\n",
       "       [5. , 3.5, 1.3, 0.3],\n",
       "       [4.5, 2.3, 1.3, 0.3],\n",
       "       [4.4, 3.2, 1.3, 0.2],\n",
       "       [5. , 3.5, 1.6, 0.6],\n",
       "       [5.1, 3.8, 1.9, 0.4],\n",
       "       [4.8, 3. , 1.4, 0.3],\n",
       "       [5.1, 3.8, 1.6, 0.2],\n",
       "       [4.6, 3.2, 1.4, 0.2],\n",
       "       [5.3, 3.7, 1.5, 0.2],\n",
       "       [5. , 3.3, 1.4, 0.2],\n",
       "       [7. , 3.2, 4.7, 1.4],\n",
       "       [6.4, 3.2, 4.5, 1.5],\n",
       "       [6.9, 3.1, 4.9, 1.5],\n",
       "       [5.5, 2.3, 4. , 1.3],\n",
       "       [6.5, 2.8, 4.6, 1.5],\n",
       "       [5.7, 2.8, 4.5, 1.3],\n",
       "       [6.3, 3.3, 4.7, 1.6],\n",
       "       [4.9, 2.4, 3.3, 1. ],\n",
       "       [6.6, 2.9, 4.6, 1.3],\n",
       "       [5.2, 2.7, 3.9, 1.4],\n",
       "       [5. , 2. , 3.5, 1. ],\n",
       "       [5.9, 3. , 4.2, 1.5],\n",
       "       [6. , 2.2, 4. , 1. ],\n",
       "       [6.1, 2.9, 4.7, 1.4],\n",
       "       [5.6, 2.9, 3.6, 1.3],\n",
       "       [6.7, 3.1, 4.4, 1.4],\n",
       "       [5.6, 3. , 4.5, 1.5],\n",
       "       [5.8, 2.7, 4.1, 1. ],\n",
       "       [6.2, 2.2, 4.5, 1.5],\n",
       "       [5.6, 2.5, 3.9, 1.1],\n",
       "       [5.9, 3.2, 4.8, 1.8],\n",
       "       [6.1, 2.8, 4. , 1.3],\n",
       "       [6.3, 2.5, 4.9, 1.5],\n",
       "       [6.1, 2.8, 4.7, 1.2],\n",
       "       [6.4, 2.9, 4.3, 1.3],\n",
       "       [6.6, 3. , 4.4, 1.4],\n",
       "       [6.8, 2.8, 4.8, 1.4],\n",
       "       [6.7, 3. , 5. , 1.7],\n",
       "       [6. , 2.9, 4.5, 1.5],\n",
       "       [5.7, 2.6, 3.5, 1. ],\n",
       "       [5.5, 2.4, 3.8, 1.1],\n",
       "       [5.5, 2.4, 3.7, 1. ],\n",
       "       [5.8, 2.7, 3.9, 1.2],\n",
       "       [6. , 2.7, 5.1, 1.6],\n",
       "       [5.4, 3. , 4.5, 1.5],\n",
       "       [6. , 3.4, 4.5, 1.6],\n",
       "       [6.7, 3.1, 4.7, 1.5],\n",
       "       [6.3, 2.3, 4.4, 1.3],\n",
       "       [5.6, 3. , 4.1, 1.3],\n",
       "       [5.5, 2.5, 4. , 1.3],\n",
       "       [5.5, 2.6, 4.4, 1.2],\n",
       "       [6.1, 3. , 4.6, 1.4],\n",
       "       [5.8, 2.6, 4. , 1.2],\n",
       "       [5. , 2.3, 3.3, 1. ],\n",
       "       [5.6, 2.7, 4.2, 1.3],\n",
       "       [5.7, 3. , 4.2, 1.2],\n",
       "       [5.7, 2.9, 4.2, 1.3],\n",
       "       [6.2, 2.9, 4.3, 1.3],\n",
       "       [5.1, 2.5, 3. , 1.1],\n",
       "       [5.7, 2.8, 4.1, 1.3],\n",
       "       [6.3, 3.3, 6. , 2.5],\n",
       "       [5.8, 2.7, 5.1, 1.9],\n",
       "       [7.1, 3. , 5.9, 2.1],\n",
       "       [6.3, 2.9, 5.6, 1.8],\n",
       "       [6.5, 3. , 5.8, 2.2],\n",
       "       [7.6, 3. , 6.6, 2.1],\n",
       "       [4.9, 2.5, 4.5, 1.7],\n",
       "       [7.3, 2.9, 6.3, 1.8],\n",
       "       [6.7, 2.5, 5.8, 1.8],\n",
       "       [7.2, 3.6, 6.1, 2.5],\n",
       "       [6.5, 3.2, 5.1, 2. ],\n",
       "       [6.4, 2.7, 5.3, 1.9],\n",
       "       [6.8, 3. , 5.5, 2.1],\n",
       "       [5.7, 2.5, 5. , 2. ],\n",
       "       [5.8, 2.8, 5.1, 2.4],\n",
       "       [6.4, 3.2, 5.3, 2.3],\n",
       "       [6.5, 3. , 5.5, 1.8],\n",
       "       [7.7, 3.8, 6.7, 2.2],\n",
       "       [7.7, 2.6, 6.9, 2.3],\n",
       "       [6. , 2.2, 5. , 1.5],\n",
       "       [6.9, 3.2, 5.7, 2.3],\n",
       "       [5.6, 2.8, 4.9, 2. ],\n",
       "       [7.7, 2.8, 6.7, 2. ],\n",
       "       [6.3, 2.7, 4.9, 1.8],\n",
       "       [6.7, 3.3, 5.7, 2.1],\n",
       "       [7.2, 3.2, 6. , 1.8],\n",
       "       [6.2, 2.8, 4.8, 1.8],\n",
       "       [6.1, 3. , 4.9, 1.8],\n",
       "       [6.4, 2.8, 5.6, 2.1],\n",
       "       [7.2, 3. , 5.8, 1.6],\n",
       "       [7.4, 2.8, 6.1, 1.9],\n",
       "       [7.9, 3.8, 6.4, 2. ],\n",
       "       [6.4, 2.8, 5.6, 2.2],\n",
       "       [6.3, 2.8, 5.1, 1.5],\n",
       "       [6.1, 2.6, 5.6, 1.4],\n",
       "       [7.7, 3. , 6.1, 2.3],\n",
       "       [6.3, 3.4, 5.6, 2.4],\n",
       "       [6.4, 3.1, 5.5, 1.8],\n",
       "       [6. , 3. , 4.8, 1.8],\n",
       "       [6.9, 3.1, 5.4, 2.1],\n",
       "       [6.7, 3.1, 5.6, 2.4],\n",
       "       [6.9, 3.1, 5.1, 2.3],\n",
       "       [5.8, 2.7, 5.1, 1.9],\n",
       "       [6.8, 3.2, 5.9, 2.3],\n",
       "       [6.7, 3.3, 5.7, 2.5],\n",
       "       [6.7, 3. , 5.2, 2.3],\n",
       "       [6.3, 2.5, 5. , 1.9],\n",
       "       [6.5, 3. , 5.2, 2. ],\n",
       "       [6.2, 3.4, 5.4, 2.3],\n",
       "       [5.9, 3. , 5.1, 1.8]])"
      ]
     },
     "execution_count": 100,
     "metadata": {},
     "output_type": "execute_result"
    }
   ],
   "source": [
    "X"
   ]
  },
  {
   "cell_type": "code",
   "execution_count": 99,
   "metadata": {},
   "outputs": [
    {
     "data": {
      "text/plain": [
       "array([0, 0, 0, 0, 0, 0, 0, 0, 0, 0, 0, 0, 0, 0, 0, 0, 0, 0, 0, 0, 0, 0,\n",
       "       0, 0, 0, 0, 0, 0, 0, 0, 0, 0, 0, 0, 0, 0, 0, 0, 0, 0, 0, 0, 0, 0,\n",
       "       0, 0, 0, 0, 0, 0, 1, 1, 1, 1, 1, 1, 1, 1, 1, 1, 1, 1, 1, 1, 1, 1,\n",
       "       1, 1, 1, 1, 1, 1, 1, 1, 1, 1, 1, 1, 1, 1, 1, 1, 1, 1, 1, 1, 1, 1,\n",
       "       1, 1, 1, 1, 1, 1, 1, 1, 1, 1, 1, 1, 2, 2, 2, 2, 2, 2, 2, 2, 2, 2,\n",
       "       2, 2, 2, 2, 2, 2, 2, 2, 2, 2, 2, 2, 2, 2, 2, 2, 2, 2, 2, 2, 2, 2,\n",
       "       2, 2, 2, 2, 2, 2, 2, 2, 2, 2, 2, 2, 2, 2, 2, 2, 2, 2])"
      ]
     },
     "execution_count": 99,
     "metadata": {},
     "output_type": "execute_result"
    }
   ],
   "source": [
    "y"
   ]
  },
  {
   "cell_type": "code",
   "execution_count": 101,
   "metadata": {},
   "outputs": [
    {
     "data": {
      "text/plain": [
       "array([0, 0, 0, 0, 0, 0, 0, 0, 0, 0, 0, 0, 0, 0, 0, 0, 0, 0, 0, 0, 0, 0,\n",
       "       0, 0, 0, 0, 0, 0, 0, 0, 0, 0, 0, 0, 0, 0, 0, 0, 0, 0, 0, 0, 0, 0,\n",
       "       0, 0, 0, 0, 0, 0, 0, 0, 0, 0, 0, 0, 0, 0, 0, 0, 0, 0, 0, 0, 0, 0,\n",
       "       0, 0, 0, 0, 0, 0, 0, 0, 0, 0, 0, 0, 0, 0, 0, 0, 0, 0, 0, 0, 0, 0,\n",
       "       0, 0, 0, 0, 0, 0, 0, 0, 0, 0, 0, 0, 1, 1, 1, 1, 1, 1, 1, 1, 1, 1,\n",
       "       1, 1, 1, 1, 1, 1, 1, 1, 1, 1, 1, 1, 1, 1, 1, 1, 1, 1, 1, 1, 1, 1,\n",
       "       1, 1, 1, 1, 1, 1, 1, 1, 1, 1, 1, 1, 1, 1, 1, 1, 1, 1])"
      ]
     },
     "execution_count": 101,
     "metadata": {},
     "output_type": "execute_result"
    }
   ],
   "source": [
    "y = (y==2)*1\n",
    "y"
   ]
  },
  {
   "cell_type": "code",
   "execution_count": 102,
   "metadata": {},
   "outputs": [],
   "source": [
    "from sklearn.model_selection import train_test_split\n",
    "\n",
    "X_train, X_test, y_train, y_test = train_test_split(X, y, test_size=0.25, random_state=0)"
   ]
  },
  {
   "cell_type": "code",
   "execution_count": 103,
   "metadata": {},
   "outputs": [],
   "source": [
    "from sklearn.naive_bayes import GaussianNB\n",
    "gnb = GaussianNB()"
   ]
  },
  {
   "cell_type": "code",
   "execution_count": 104,
   "metadata": {},
   "outputs": [
    {
     "data": {
      "text/plain": [
       "GaussianNB(priors=None, var_smoothing=1e-09)"
      ]
     },
     "execution_count": 104,
     "metadata": {},
     "output_type": "execute_result"
    }
   ],
   "source": [
    "gnb.fit(X_train, y_train)"
   ]
  },
  {
   "cell_type": "code",
   "execution_count": 105,
   "metadata": {},
   "outputs": [],
   "source": [
    "y_pred = gnb.predict(X_test)"
   ]
  },
  {
   "cell_type": "code",
   "execution_count": 108,
   "metadata": {},
   "outputs": [
    {
     "data": {
      "text/plain": [
       "array([1, 0, 0, 1, 0, 1, 0, 1, 1, 0, 1, 0, 0, 1, 0, 0, 0, 0, 0, 0, 1, 0,\n",
       "       0, 0, 1, 0, 0, 0, 0, 0, 1, 0, 0, 1, 1, 0, 0, 1])"
      ]
     },
     "execution_count": 108,
     "metadata": {},
     "output_type": "execute_result"
    }
   ],
   "source": [
    "y_pred"
   ]
  },
  {
   "cell_type": "code",
   "execution_count": 109,
   "metadata": {},
   "outputs": [
    {
     "data": {
      "text/plain": [
       "array([1, 0, 0, 1, 0, 1, 0, 0, 0, 0, 1, 0, 0, 0, 0, 0, 0, 0, 0, 0, 1, 0,\n",
       "       0, 0, 1, 0, 0, 0, 0, 0, 1, 0, 0, 1, 1, 0, 0, 0])"
      ]
     },
     "execution_count": 109,
     "metadata": {},
     "output_type": "execute_result"
    }
   ],
   "source": [
    "y_test"
   ]
  },
  {
   "cell_type": "code",
   "execution_count": 110,
   "metadata": {},
   "outputs": [
    {
     "data": {
      "text/plain": [
       "array([ True,  True,  True,  True,  True,  True,  True, False, False,\n",
       "        True,  True,  True,  True, False,  True,  True,  True,  True,\n",
       "        True,  True,  True,  True,  True,  True,  True,  True,  True,\n",
       "        True,  True,  True,  True,  True,  True,  True,  True,  True,\n",
       "        True, False])"
      ]
     },
     "execution_count": 110,
     "metadata": {},
     "output_type": "execute_result"
    }
   ],
   "source": [
    "y_pred==y_test"
   ]
  },
  {
   "cell_type": "code",
   "execution_count": 111,
   "metadata": {},
   "outputs": [
    {
     "data": {
      "text/plain": [
       "0.8947368421052632"
      ]
     },
     "execution_count": 111,
     "metadata": {},
     "output_type": "execute_result"
    }
   ],
   "source": [
    "accuracy = (y_pred==y_test).mean()\n",
    "accuracy"
   ]
  },
  {
   "cell_type": "code",
   "execution_count": 112,
   "metadata": {},
   "outputs": [
    {
     "data": {
      "text/plain": [
       "array([0.96666667, 0.96666667, 0.86666667, 0.73333333, 0.93333333])"
      ]
     },
     "execution_count": 112,
     "metadata": {},
     "output_type": "execute_result"
    }
   ],
   "source": [
    "from sklearn.model_selection import cross_val_score\n",
    "scores = cross_val_score(gnb, X, y, cv=5)\n",
    "scores"
   ]
  },
  {
   "cell_type": "code",
   "execution_count": 114,
   "metadata": {},
   "outputs": [],
   "source": [
    "from sklearn.model_selection import cross_val_predict\n",
    "y_pred = cross_val_predict(gnb, X, y, cv=5)"
   ]
  },
  {
   "cell_type": "code",
   "execution_count": 115,
   "metadata": {},
   "outputs": [
    {
     "data": {
      "text/plain": [
       "(150,)"
      ]
     },
     "execution_count": 115,
     "metadata": {},
     "output_type": "execute_result"
    }
   ],
   "source": [
    "y_pred.shape"
   ]
  },
  {
   "cell_type": "code",
   "execution_count": 116,
   "metadata": {},
   "outputs": [
    {
     "data": {
      "text/plain": [
       "array([[86, 14],\n",
       "       [ 2, 48]])"
      ]
     },
     "execution_count": 116,
     "metadata": {},
     "output_type": "execute_result"
    }
   ],
   "source": [
    "from sklearn.metrics import confusion_matrix\n",
    "\n",
    "conf_mx = confusion_matrix(y, y_pred)\n",
    "conf_mx"
   ]
  },
  {
   "cell_type": "code",
   "execution_count": 117,
   "metadata": {},
   "outputs": [
    {
     "data": {
      "text/plain": [
       "0.7741935483870968"
      ]
     },
     "execution_count": 117,
     "metadata": {},
     "output_type": "execute_result"
    }
   ],
   "source": [
    "precision = 48 /(14+48)\n",
    "precision"
   ]
  },
  {
   "cell_type": "code",
   "execution_count": 118,
   "metadata": {},
   "outputs": [
    {
     "data": {
      "text/plain": [
       "0.96"
      ]
     },
     "execution_count": 118,
     "metadata": {},
     "output_type": "execute_result"
    }
   ],
   "source": [
    "recall = 48 /(2+48)\n",
    "recall"
   ]
  },
  {
   "cell_type": "code",
   "execution_count": 87,
   "metadata": {},
   "outputs": [],
   "source": [
    "y_scores = cross_val_predict(gnb, X, y, cv=5, method=\"predict_proba\")"
   ]
  },
  {
   "cell_type": "code",
   "execution_count": 88,
   "metadata": {},
   "outputs": [
    {
     "data": {
      "text/plain": [
       "array([[1.00000000e+00, 6.20658885e-24],\n",
       "       [1.00000000e+00, 6.68085016e-24],\n",
       "       [1.00000000e+00, 7.57267703e-25],\n",
       "       [1.00000000e+00, 9.55464806e-24],\n",
       "       [1.00000000e+00, 3.42138851e-24],\n",
       "       [1.00000000e+00, 1.48662698e-20],\n",
       "       [1.00000000e+00, 1.43230826e-23],\n",
       "       [1.00000000e+00, 2.26676275e-23],\n",
       "       [1.00000000e+00, 1.29658497e-24],\n",
       "       [1.00000000e+00, 2.53076679e-24],\n",
       "       [1.00000000e+00, 3.26536423e-23],\n",
       "       [1.00000000e+00, 4.58773249e-23],\n",
       "       [1.00000000e+00, 4.88324264e-25],\n",
       "       [1.00000000e+00, 1.27309246e-27],\n",
       "       [1.00000000e+00, 4.27432902e-25],\n",
       "       [1.00000000e+00, 1.42618489e-22],\n",
       "       [1.00000000e+00, 6.60179839e-23],\n",
       "       [1.00000000e+00, 5.56876348e-23],\n",
       "       [1.00000000e+00, 6.75170061e-21],\n",
       "       [1.00000000e+00, 8.06726254e-23],\n",
       "       [1.00000000e+00, 3.68803149e-22],\n",
       "       [1.00000000e+00, 1.54858236e-22],\n",
       "       [1.00000000e+00, 5.13809365e-28],\n",
       "       [1.00000000e+00, 9.27709725e-20],\n",
       "       [1.00000000e+00, 1.02622291e-21],\n",
       "       [1.00000000e+00, 6.22219750e-23],\n",
       "       [1.00000000e+00, 1.91126920e-21],\n",
       "       [1.00000000e+00, 8.83028174e-24],\n",
       "       [1.00000000e+00, 3.00042577e-24],\n",
       "       [1.00000000e+00, 2.19132480e-23],\n",
       "       [1.00000000e+00, 3.34425897e-23],\n",
       "       [1.00000000e+00, 1.37776232e-21],\n",
       "       [1.00000000e+00, 1.88988969e-26],\n",
       "       [1.00000000e+00, 3.55899934e-26],\n",
       "       [1.00000000e+00, 1.06989145e-23],\n",
       "       [1.00000000e+00, 1.42194627e-25],\n",
       "       [1.00000000e+00, 1.04506307e-24],\n",
       "       [1.00000000e+00, 6.19769808e-26],\n",
       "       [1.00000000e+00, 1.40831337e-25],\n",
       "       [1.00000000e+00, 9.76780305e-24],\n",
       "       [1.00000000e+00, 1.93212724e-23],\n",
       "       [1.00000000e+00, 7.13431569e-24],\n",
       "       [1.00000000e+00, 1.05819400e-24],\n",
       "       [1.00000000e+00, 3.48114329e-19],\n",
       "       [1.00000000e+00, 1.86712394e-19],\n",
       "       [1.00000000e+00, 1.09840616e-22],\n",
       "       [1.00000000e+00, 6.84452617e-23],\n",
       "       [1.00000000e+00, 6.84271196e-24],\n",
       "       [1.00000000e+00, 4.44184332e-23],\n",
       "       [1.00000000e+00, 1.54892150e-23],\n",
       "       [1.49650980e-01, 8.50349020e-01],\n",
       "       [5.23650567e-01, 4.76349433e-01],\n",
       "       [3.85160877e-02, 9.61483912e-01],\n",
       "       [9.99594615e-01, 4.05385306e-04],\n",
       "       [2.88369381e-01, 7.11630619e-01],\n",
       "       [9.81267964e-01, 1.87320358e-02],\n",
       "       [2.41582069e-01, 7.58417931e-01],\n",
       "       [9.99999983e-01, 1.74736171e-08],\n",
       "       [6.89454132e-01, 3.10545868e-01],\n",
       "       [9.99484862e-01, 5.15138421e-04],\n",
       "       [9.99999974e-01, 2.60432873e-08],\n",
       "       [8.51575237e-01, 1.48424763e-01],\n",
       "       [9.99967662e-01, 3.23376111e-05],\n",
       "       [4.87557105e-01, 5.12442895e-01],\n",
       "       [9.99822873e-01, 1.77127033e-04],\n",
       "       [3.54216922e-01, 6.45783078e-01],\n",
       "       [7.91092881e-01, 2.08907119e-01],\n",
       "       [9.99929664e-01, 7.03355315e-05],\n",
       "       [5.24739524e-01, 4.75260476e-01],\n",
       "       [9.99948754e-01, 5.12462787e-05],\n",
       "       [3.48496884e-02, 9.65150312e-01],\n",
       "       [9.88890125e-01, 1.11098747e-02],\n",
       "       [7.89698832e-02, 9.21030117e-01],\n",
       "       [9.32602624e-01, 6.73973758e-02],\n",
       "       [8.75639079e-01, 1.24360921e-01],\n",
       "       [3.99289111e-01, 6.00710889e-01],\n",
       "       [5.40239608e-02, 9.45976039e-01],\n",
       "       [1.96883865e-03, 9.98031161e-01],\n",
       "       [4.76976202e-01, 5.23023798e-01],\n",
       "       [9.99998795e-01, 1.20508974e-06],\n",
       "       [9.99940968e-01, 5.90323288e-05],\n",
       "       [9.99992285e-01, 7.71455393e-06],\n",
       "       [9.98861763e-01, 1.13823743e-03],\n",
       "       [4.39543439e-02, 9.56045656e-01],\n",
       "       [8.43885844e-01, 1.56114156e-01],\n",
       "       [5.08930706e-01, 4.91069294e-01],\n",
       "       [7.81853322e-02, 9.21814668e-01],\n",
       "       [8.89641824e-01, 1.10358176e-01],\n",
       "       [9.94289970e-01, 5.71003012e-03],\n",
       "       [9.97346953e-01, 2.65304698e-03],\n",
       "       [9.93675485e-01, 6.32451488e-03],\n",
       "       [5.98251524e-01, 4.01748476e-01],\n",
       "       [9.98080749e-01, 1.91925114e-03],\n",
       "       [9.99999884e-01, 1.15605583e-07],\n",
       "       [9.88899605e-01, 1.11003949e-02],\n",
       "       [9.96284696e-01, 3.71530429e-03],\n",
       "       [9.86367012e-01, 1.36329878e-02],\n",
       "       [9.20611471e-01, 7.93885290e-02],\n",
       "       [9.99999913e-01, 8.69066414e-08],\n",
       "       [9.91348095e-01, 8.65190489e-03],\n",
       "       [3.12385881e-03, 9.96876141e-01],\n",
       "       [7.49240276e-02, 9.25075972e-01],\n",
       "       [4.56937395e-04, 9.99543063e-01],\n",
       "       [1.35775768e-02, 9.86422423e-01],\n",
       "       [1.53583452e-03, 9.98464165e-01],\n",
       "       [3.46972589e-04, 9.99653027e-01],\n",
       "       [9.76170448e-01, 2.38295517e-02],\n",
       "       [1.46492427e-03, 9.98535076e-01],\n",
       "       [7.38920018e-03, 9.92610800e-01],\n",
       "       [7.57821479e-04, 9.99242179e-01],\n",
       "       [8.14505012e-03, 9.91854950e-01],\n",
       "       [1.12437172e-02, 9.88756283e-01],\n",
       "       [1.06690740e-03, 9.98933093e-01],\n",
       "       [1.41491061e-01, 8.58508939e-01],\n",
       "       [1.99758889e-02, 9.80024111e-01],\n",
       "       [3.18002417e-03, 9.96819976e-01],\n",
       "       [7.95989574e-03, 9.92040104e-01],\n",
       "       [3.53948583e-03, 9.96460514e-01],\n",
       "       [6.58804953e-04, 9.99341195e-01],\n",
       "       [8.91469417e-01, 1.08530583e-01],\n",
       "       [1.05966454e-04, 9.99894034e-01],\n",
       "       [5.85481271e-02, 9.41451873e-01],\n",
       "       [2.28500689e-05, 9.99977150e-01],\n",
       "       [2.41162231e-02, 9.75883777e-01],\n",
       "       [4.11274571e-04, 9.99588725e-01],\n",
       "       [2.51176514e-04, 9.99748823e-01],\n",
       "       [4.34625811e-02, 9.56537419e-01],\n",
       "       [4.31238127e-02, 9.56876187e-01],\n",
       "       [7.88330258e-04, 9.99211670e-01],\n",
       "       [9.39418850e-04, 9.99060581e-01],\n",
       "       [5.36121362e-06, 9.99994639e-01],\n",
       "       [9.63533914e-06, 9.99990365e-01],\n",
       "       [6.26599293e-05, 9.99937340e-01],\n",
       "       [3.69968852e-02, 9.63003115e-01],\n",
       "       [8.62467930e-02, 9.13753207e-01],\n",
       "       [3.74859841e-07, 9.99999625e-01],\n",
       "       [1.79369897e-04, 9.99820630e-01],\n",
       "       [8.69922485e-04, 9.99130078e-01],\n",
       "       [1.76124952e-02, 9.82387505e-01],\n",
       "       [3.02093188e-05, 9.99969791e-01],\n",
       "       [1.13493847e-04, 9.99886506e-01],\n",
       "       [2.02619092e-04, 9.99797381e-01],\n",
       "       [1.00556210e-02, 9.89944379e-01],\n",
       "       [7.73747805e-05, 9.99922625e-01],\n",
       "       [1.59903456e-04, 9.99840097e-01],\n",
       "       [2.31748340e-04, 9.99768252e-01],\n",
       "       [3.98183798e-03, 9.96018162e-01],\n",
       "       [8.64907077e-04, 9.99135093e-01],\n",
       "       [1.32657052e-03, 9.98673429e-01],\n",
       "       [1.59278431e-02, 9.84072157e-01]])"
      ]
     },
     "execution_count": 88,
     "metadata": {},
     "output_type": "execute_result"
    }
   ],
   "source": [
    "y_scores"
   ]
  },
  {
   "cell_type": "code",
   "execution_count": 89,
   "metadata": {},
   "outputs": [],
   "source": [
    "y_scores_pos = y_scores[:, 1]"
   ]
  },
  {
   "cell_type": "code",
   "execution_count": 90,
   "metadata": {},
   "outputs": [],
   "source": [
    "from sklearn.metrics import precision_recall_curve\n",
    "\n",
    "precisions, recalls, thresholds = precision_recall_curve(y, y_scores_pos)"
   ]
  },
  {
   "cell_type": "code",
   "execution_count": 91,
   "metadata": {},
   "outputs": [
    {
     "data": {
      "text/plain": [
       "array([0.65789474, 0.65333333, 0.66216216, 0.67123288, 0.66666667,\n",
       "       0.67605634, 0.68571429, 0.69565217, 0.70588235, 0.71641791,\n",
       "       0.72727273, 0.73846154, 0.75      , 0.76190476, 0.77419355,\n",
       "       0.78688525, 0.8       , 0.81355932, 0.82758621, 0.84210526,\n",
       "       0.85714286, 0.87272727, 0.87037037, 0.86792453, 0.88461538,\n",
       "       0.90196078, 0.9       , 0.89795918, 0.91666667, 0.93617021,\n",
       "       0.93478261, 0.93333333, 0.95454545, 0.95348837, 0.97619048,\n",
       "       0.97560976, 0.975     , 0.97435897, 0.97368421, 0.97297297,\n",
       "       0.97222222, 0.97142857, 0.97058824, 0.96969697, 0.96875   ,\n",
       "       0.96774194, 0.96666667, 0.96551724, 0.96428571, 1.        ,\n",
       "       1.        , 1.        , 1.        , 1.        , 1.        ,\n",
       "       1.        , 1.        , 1.        , 1.        , 1.        ,\n",
       "       1.        , 1.        , 1.        , 1.        , 1.        ,\n",
       "       1.        , 1.        , 1.        , 1.        , 1.        ,\n",
       "       1.        , 1.        , 1.        , 1.        , 1.        ,\n",
       "       1.        , 1.        ])"
      ]
     },
     "execution_count": 91,
     "metadata": {},
     "output_type": "execute_result"
    }
   ],
   "source": [
    "precisions"
   ]
  },
  {
   "cell_type": "code",
   "execution_count": 92,
   "metadata": {},
   "outputs": [
    {
     "data": {
      "image/png": "[encoded data removed]",
      "text/plain": [
       "<Figure size 576x288 with 1 Axes>"
      ]
     },
     "metadata": {
      "needs_background": "light"
     },
     "output_type": "display_data"
    }
   ],
   "source": [
    "def plot_precision_recall_vs_threshold(precisions, recalls, thresholds):\n",
    "    plt.plot(thresholds, precisions[:-1], \"b--\", label=\"Precision\", linewidth=2)\n",
    "    plt.plot(thresholds, recalls[:-1], \"g-\", label=\"Recall\", linewidth=2)\n",
    "    plt.legend(loc=\"center right\", fontsize=16) # Not shown in the book\n",
    "    plt.xlabel(\"Threshold\", fontsize=16)        # Not shown\n",
    "    plt.grid(True)                              # Not shown\n",
    "    plt.axis([0, 1, 0, 1])             # Not shown\n",
    "\n",
    "\n",
    "\n",
    "recall_90_precision = recalls[np.argmax(precisions >= 0.90)]\n",
    "threshold_90_precision = thresholds[np.argmax(precisions >= 0.90)]\n",
    "\n",
    "\n",
    "plt.figure(figsize=(8, 4))                                                                  # Not shown\n",
    "plot_precision_recall_vs_threshold(precisions, recalls, thresholds)\n",
    "plt.show()"
   ]
  },
  {
   "cell_type": "code",
   "execution_count": 96,
   "metadata": {},
   "outputs": [
    {
     "name": "stdout",
     "output_type": "stream",
     "text": [
      "              precision    recall  f1-score   support\n",
      "\n",
      "           0       0.98      0.86      0.91       100\n",
      "           1       0.77      0.96      0.86        50\n",
      "\n",
      "    accuracy                           0.89       150\n",
      "   macro avg       0.88      0.91      0.89       150\n",
      "weighted avg       0.91      0.89      0.90       150\n",
      "\n"
     ]
    }
   ],
   "source": [
    "from sklearn.metrics import classification_report\n",
    "\n",
    "print(classification_report(y, y_pred))"
   ]
  },
  {
   "cell_type": "code",
   "execution_count": null,
   "metadata": {},
   "outputs": [],
   "source": []
  }
 ],
 "metadata": {
  "kernelspec": {
   "display_name": "Python 3",
   "language": "python",
   "name": "python3"
  },
  "language_info": {
   "codemirror_mode": {
    "name": "ipython",
    "version": 3
   },
   "file_extension": ".py",
   "mimetype": "text/x-python",
   "name": "python",
   "nbconvert_exporter": "python",
   "pygments_lexer": "ipython3",
   "version": "3.7.3"
  }
 },
 "nbformat": 4,
 "nbformat_minor": 2
}
